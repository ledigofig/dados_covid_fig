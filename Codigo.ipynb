{
 "cells": [
  {
   "cell_type": "code",
   "execution_count": 1,
   "metadata": {},
   "outputs": [],
   "source": [
    "from selenium import webdriver\n",
    "from selenium.webdriver.common.keys import Keys\n",
    "import time\n",
    "from bs4 import BeautifulSoup as bs\n",
    "from PIL import Image, ImageDraw, ImageFont\n"
   ]
  },
  {
   "cell_type": "code",
   "execution_count": 2,
   "metadata": {
    "scrolled": true
   },
   "outputs": [],
   "source": [
    "url = 'https://app.powerbi.com/view?r=eyJrIjoiYjJhNjdhMGQtNWRmNy00ZTM4LWE3YmUtMjFmMTg3YzE5ZjAzIiwidCI6ImNkMWVlZGQ2LTgyMjktNDM1Zi05YmQ1LWM2OWFiZDgxNzMzNyJ9'\n",
    "# Informando o webdriver\n",
    "driver = webdriver.Firefox()\n",
    "driver.get(url)\n",
    "time.sleep(40)\n",
    "xpath_municipio = '/html/body/div[1]/ui-view/div/div[1]/div/div/div/div/exploration-container/exploration-container-modern/div/div/div/exploration-host/div/div/exploration/div/explore-canvas-modern/div/div[2]/div/div[2]/div[2]/visual-container-repeat/visual-container-modern[15]/transform/div/div[3]/div/visual-modern/div/div/div[2]/div/i'\n",
    "driver.find_element_by_xpath(xpath_municipio).click()\n",
    "time.sleep(15)\n",
    "nome_municipio = driver.find_element_by_xpath('/html/body/div[5]/div[1]/div/div[1]/input')\n",
    "nome_municipio.send_keys('figue')\n",
    "time.sleep(15)\n",
    "xpath_figueiropolis = '/html/body/div[5]/div[1]/div/div[2]/div/div[1]/div/div/div/div/span'\n",
    "driver.find_element_by_xpath(xpath_figueiropolis).click()\n",
    "time.sleep(10)\n",
    "driver.find_element_by_xpath(xpath_municipio).click()\n"
   ]
  },
  {
   "cell_type": "code",
   "execution_count": 3,
   "metadata": {},
   "outputs": [],
   "source": [
    "contarineres = driver.find_element_by_class_name('visualContainerHost')"
   ]
  },
  {
   "cell_type": "code",
   "execution_count": 4,
   "metadata": {},
   "outputs": [
    {
     "data": {
      "text/plain": [
       "0"
      ]
     },
     "execution_count": 4,
     "metadata": {},
     "output_type": "execute_result"
    }
   ],
   "source": [
    "html = contarineres.get_attribute(\"innerHTML\")\n",
    "soup = bs(html, \"html.parser\")\n",
    "# selecionando a  tabela desejada\n",
    "texto = soup.find_all(class_='value')\n",
    "confirmados = texto[1].title.text\n",
    "\n",
    "#obitos\n",
    "obitos = texto[3].title.text\n",
    "\n",
    "#Em isolamento Social\n",
    "isolado = texto[5].title.text\n",
    "\n",
    "# Recuperados\n",
    "recuperado = texto[4].title.text\n",
    "\n",
    "#data \n",
    "data_atualização = texto[0].title.text\n",
    "\n",
    "#pega dados dos internados atualmente\n",
    "internados_atualmente = texto[12].title.text\n",
    "\n",
    "if internados_atualmente == '(Vazio)':\n",
    "    internados_atualmente = 0\n",
    "    \n",
    "else:\n",
    "    pass\n",
    "\n",
    "\n",
    "if isolado == '(Vazio)': \n",
    "    isolado = 0\n",
    "    \n",
    "    \n",
    "else:\n",
    "    pass\n",
    "\n",
    "\n",
    "isolado"
   ]
  },
  {
   "cell_type": "code",
   "execution_count": 5,
   "metadata": {},
   "outputs": [
    {
     "name": "stdout",
     "output_type": "stream",
     "text": [
      "Total Confirmados 49\n",
      "isolamento domiciliar 0\n",
      "Recuperados 48\n",
      "Obitos 1 \n",
      "Atualizado em: 02/10/2020 11:47\n"
     ]
    },
    {
     "data": {
      "text/plain": [
       "True"
      ]
     },
     "execution_count": 5,
     "metadata": {},
     "output_type": "execute_result"
    }
   ],
   "source": [
    "print(f'Total Confirmados {confirmados}\\nisolamento domiciliar {isolado}\\nRecuperados {recuperado}\\nObitos {obitos} \\n{data_atualização}')\n",
    "salvar_arquivo = data_atualização.split(':')\n",
    "salvar_arquivo_data = salvar_arquivo[1].split('/')\n",
    "driver.save_screenshot(f\"src/{str(salvar_arquivo[0])+'_'+str(salvar_arquivo_data[0])+'_'+str(salvar_arquivo_data[1])+'_'+str(salvar_arquivo_data[2])}pag_1.png\")"
   ]
  },
  {
   "cell_type": "code",
   "execution_count": 6,
   "metadata": {},
   "outputs": [],
   "source": [
    "xpath_clica_flexa = '/html/body/div[1]/ui-view/div/div[1]/div/div/div/div/exploration-container/exploration-container-modern/div/div/div/exploration-host/div/div/exploration/div/explore-canvas-modern/div/div[2]/div/div[2]/div[2]/visual-container-repeat/visual-container-group/transform/div/div[2]/visual-container-modern[1]/transform/div/div[3]/div/visual-modern/div/div'\n",
    "driver.find_element_by_xpath(xpath_clica_flexa).click()\n",
    "time.sleep(15)\n",
    "xpath_clica_flexa_pgdois = '/html/body/div[1]/ui-view/div/div[1]/div/div/div/div/exploration-container/exploration-container-modern/div/div/div/exploration-host/div/div/exploration/div/explore-canvas-modern/div/div[2]/div/div[2]/div[2]/visual-container-repeat/visual-container-group[3]/transform/div/div[2]/visual-container-modern[1]/transform/div/div[3]/div/visual-modern/div/div'\n",
    "driver.find_element_by_xpath(xpath_clica_flexa_pgdois).click()\n",
    "time.sleep(15)\n",
    "#nome_municipio = driver.find_element_by_xpath('/html/body/div[5]/div[1]/div/div[1]/input')"
   ]
  },
  {
   "cell_type": "code",
   "execution_count": 7,
   "metadata": {},
   "outputs": [
    {
     "data": {
      "text/plain": [
       "True"
      ]
     },
     "execution_count": 7,
     "metadata": {},
     "output_type": "execute_result"
    }
   ],
   "source": [
    "internados_SRAG_selenium = driver.find_element_by_class_name('explorationContainer')\n",
    "\n",
    "\n",
    "html = internados_SRAG_selenium.get_attribute(\"innerHTML\")\n",
    "soup_srag = bs(html, \"html.parser\")\n",
    "\n",
    "\n",
    "texto_srag = soup_srag.find_all(class_='value')\n",
    "internados_SRAG = texto_srag[1].title.text\n",
    "driver.save_screenshot(f\"src/{str(salvar_arquivo[0])+'_'+str(salvar_arquivo_data[0])+'_'+str(salvar_arquivo_data[1])+'_'+str(salvar_arquivo_data[2])}pag_3.png\")"
   ]
  },
  {
   "cell_type": "code",
   "execution_count": 8,
   "metadata": {},
   "outputs": [],
   "source": [
    "numero = [1,2, 3, 4, 5, 6, 7, 8, 9 , 0]\n"
   ]
  },
  {
   "cell_type": "code",
   "execution_count": 9,
   "metadata": {},
   "outputs": [
    {
     "name": "stdout",
     "output_type": "stream",
     "text": [
      "01\n",
      "00\n",
      "04\n",
      "atualmente 00\n"
     ]
    }
   ],
   "source": [
    "for x in numero:\n",
    "    if int(obitos) < 10:\n",
    "        if int(obitos) == x:\n",
    "            obitos = '%02d' % int(obitos)\n",
    "            print(obitos)\n",
    "            break\n",
    "            \n",
    "for x in numero:       \n",
    "    if int(isolado) < 10:\n",
    "        if int(isolado) == x:\n",
    "            isolado = '%02d' % int(isolado)\n",
    "            print(isolado)\n",
    "            break\n",
    "\n",
    "for x in numero:\n",
    "    internados_SRAG = int(internados_SRAG)        \n",
    "    if internados_SRAG < 10:\n",
    "        if int(internados_SRAG) == x:\n",
    "            internado_SRAG = str('%02d' % int(internados_SRAG))\n",
    "            print(internado_SRAG)\n",
    "            break\n",
    "            \n",
    "            \n",
    "for x in numero:\n",
    "    internados_atualmente = int(internados_atualmente)\n",
    "\n",
    "    if internados_atualmente < 10:\n",
    "        if internados_atualmente == x:\n",
    "            internados_atualmente = str('%02d' % internados_atualmente)\n",
    "            print(\"atualmente\",str(internados_atualmente))\n",
    "            break\n",
    "           \n",
    "        "
   ]
  },
  {
   "cell_type": "markdown",
   "metadata": {},
   "source": [
    "img = Image.open(\"imagem covid II.png\")\n",
    "font = ImageFont.truetype(\"arial.ttf\", size=45)\n",
    "font_atu = ImageFont.truetype(\"arial.ttf\", size=30)\n",
    "\n",
    "\n",
    "draw = ImageDraw.Draw(img)\n",
    "#texto = \"www.eupodiatamatando.com\"\n",
    "pos = 1900,293\n",
    "pos_rec = 1900,438\n",
    "pos_iso = 1900, 575\n",
    "pos_int = 1900, 732\n",
    "pos_obi = 1900, 874\n",
    "pos_atualizacao = 1190, 1008\n",
    "draw.text(pos, confirmados, fill=\"#000\", font=font)\n",
    "draw.text(pos_rec, recuperado, fill=\"#000\", font=font)\n",
    "draw.text(pos_iso, isolado, fill=\"#000\", font=font)\n",
    "draw.text(pos_int, internados_SRAG, fill=\"#000\", font=font)\n",
    "draw.text(pos_obi, obitos, fill=\"#000\", font=font)\n",
    "draw.text(pos_atualizacao, data_atualização, fill=\"#000\", font=font_atu)\n",
    "\n",
    "\n",
    "\n",
    "img.save(f\"src/{str(salvar_arquivo[0])+'_'+str(salvar_arquivo_data[0])+'_'+str(salvar_arquivo_data[1])+'_'+str(salvar_arquivo_data[2])}.png\")\n"
   ]
  },
  {
   "cell_type": "code",
   "execution_count": 11,
   "metadata": {},
   "outputs": [],
   "source": [
    "img = Image.open(\"layout_divulgação_ covid_v_compacta.jpeg\")\n",
    "font = ImageFont.truetype(\"ariblk.ttf\", size=45)\n",
    "font_atu = ImageFont.truetype(\"arial.ttf\", size=30)\n",
    "\n",
    "\n",
    "draw = ImageDraw.Draw(img)\n",
    "pos = 1900,259\n",
    "pos_rec = 1900,388\n",
    "pos_iso = 1900, 517\n",
    "pos_int = 1900, 645\n",
    "pos_int_atua = 1900, 772\n",
    "pos_obi = 1900, 912\n",
    "pos_atualizacao = 1190, 1008\n",
    "draw.text(pos, confirmados, fill=\"#000\", font=font)\n",
    "draw.text(pos_rec, recuperado, fill=\"#000\", font=font)\n",
    "draw.text(pos_iso, isolado, fill=\"#000\", font=font)\n",
    "draw.text(pos_int, str(internado_SRAG), fill=\"#000\", font=font)\n",
    "draw.text(pos_int_atua, str(internados_atualmente), fill=\"#000\", font=font)\n",
    "draw.text(pos_obi, obitos, fill=\"#000\", font=font)\n",
    "draw.text(pos_atualizacao, data_atualização, fill=\"#000\", font=font_atu)\n",
    "\n",
    "\n",
    "\n",
    "img.save(f\"src/novo_{str(salvar_arquivo[0])+'_'+str(salvar_arquivo_data[0])+'_'+str(salvar_arquivo_data[1])+'_'+str(salvar_arquivo_data[2])}.jpeg\")\n"
   ]
  },
  {
   "cell_type": "code",
   "execution_count": 12,
   "metadata": {},
   "outputs": [],
   "source": [
    "driver.close()"
   ]
  },
  {
   "cell_type": "code",
   "execution_count": 30,
   "metadata": {},
   "outputs": [
    {
     "ename": "AttributeError",
     "evalue": "type object 'ServiceAccountCredentials' has no attribute 'from_json_keyfile'",
     "output_type": "error",
     "traceback": [
      "\u001b[0;31m---------------------------------------------------------------------------\u001b[0m",
      "\u001b[0;31mAttributeError\u001b[0m                            Traceback (most recent call last)",
      "\u001b[0;32m<ipython-input-30-2aa9d4ba5101>\u001b[0m in \u001b[0;36m<module>\u001b[0;34m\u001b[0m\n\u001b[1;32m      4\u001b[0m \u001b[0;34m\u001b[0m\u001b[0m\n\u001b[1;32m      5\u001b[0m \u001b[0mscope\u001b[0m \u001b[0;34m=\u001b[0m \u001b[0;34m[\u001b[0m\u001b[0;34m'https://spreadsheets.google.com/feeds'\u001b[0m\u001b[0;34m,\u001b[0m\u001b[0;34m'https://www.googleapis.com/auth/drive'\u001b[0m\u001b[0;34m]\u001b[0m\u001b[0;34m\u001b[0m\u001b[0;34m\u001b[0m\u001b[0m\n\u001b[0;32m----> 6\u001b[0;31m \u001b[0mcredentials\u001b[0m \u001b[0;34m=\u001b[0m \u001b[0mServiceAccountCredentials\u001b[0m\u001b[0;34m.\u001b[0m\u001b[0mfrom_json_keyfile\u001b[0m\u001b[0;34m.\u001b[0m\u001b[0mname\u001b[0m\u001b[0;34m(\u001b[0m\u001b[0;34m'client_secret.json'\u001b[0m\u001b[0;34m,\u001b[0m \u001b[0mscope\u001b[0m\u001b[0;34m)\u001b[0m\u001b[0;34m\u001b[0m\u001b[0;34m\u001b[0m\u001b[0m\n\u001b[0m\u001b[1;32m      7\u001b[0m \u001b[0mgc\u001b[0m \u001b[0;34m=\u001b[0m \u001b[0mgspread\u001b[0m\u001b[0;34m.\u001b[0m\u001b[0mauthorize\u001b[0m\u001b[0;34m(\u001b[0m\u001b[0mcredentials\u001b[0m\u001b[0;34m)\u001b[0m\u001b[0;34m\u001b[0m\u001b[0;34m\u001b[0m\u001b[0m\n",
      "\u001b[0;31mAttributeError\u001b[0m: type object 'ServiceAccountCredentials' has no attribute 'from_json_keyfile'"
     ]
    }
   ],
   "source": [
    "import gspread\n",
    "from oauth2client.service_account import ServiceAccountCredentials\n",
    "\n",
    "\n",
    "scope = ['https://spreadsheets.google.com/feeds','https://www.googleapis.com/auth/drive']\n",
    "credentials = ServiceAccountCredentials.from_json_keyfile.name('client_secret.json', scope)\n",
    "gc = gspread.authorize(credentials)"
   ]
  },
  {
   "cell_type": "code",
   "execution_count": 29,
   "metadata": {},
   "outputs": [
    {
     "ename": "AttributeError",
     "evalue": "module 'gspread' has no attribute 'service_account'",
     "output_type": "error",
     "traceback": [
      "\u001b[0;31m---------------------------------------------------------------------------\u001b[0m",
      "\u001b[0;31mAttributeError\u001b[0m                            Traceback (most recent call last)",
      "\u001b[0;32m<ipython-input-29-780c0785ab85>\u001b[0m in \u001b[0;36m<module>\u001b[0;34m\u001b[0m\n\u001b[0;32m----> 1\u001b[0;31m \u001b[0mgc\u001b[0m \u001b[0;34m=\u001b[0m \u001b[0mgspread\u001b[0m\u001b[0;34m.\u001b[0m\u001b[0mservice_account\u001b[0m\u001b[0;34m(\u001b[0m\u001b[0;34m)\u001b[0m\u001b[0;34m\u001b[0m\u001b[0;34m\u001b[0m\u001b[0m\n\u001b[0m",
      "\u001b[0;31mAttributeError\u001b[0m: module 'gspread' has no attribute 'service_account'"
     ]
    }
   ],
   "source": [
    "gc = gspread.service_account()"
   ]
  },
  {
   "cell_type": "code",
   "execution_count": 23,
   "metadata": {},
   "outputs": [
    {
     "data": {
      "text/plain": [
       "['Cell',\n",
       " 'CellNotFound',\n",
       " 'Client',\n",
       " 'GSpreadException',\n",
       " 'IncorrectCellLabel',\n",
       " 'NoValidUrlKeyFound',\n",
       " 'Spreadsheet',\n",
       " 'SpreadsheetNotFound',\n",
       " 'Worksheet',\n",
       " 'WorksheetNotFound',\n",
       " '__author__',\n",
       " '__builtins__',\n",
       " '__cached__',\n",
       " '__doc__',\n",
       " '__file__',\n",
       " '__loader__',\n",
       " '__name__',\n",
       " '__package__',\n",
       " '__path__',\n",
       " '__spec__',\n",
       " '__version__',\n",
       " 'authorize',\n",
       " 'client',\n",
       " 'exceptions',\n",
       " 'models',\n",
       " 'urls',\n",
       " 'utils']"
      ]
     },
     "execution_count": 23,
     "metadata": {},
     "output_type": "execute_result"
    }
   ],
   "source": [
    "dir(gspread)"
   ]
  },
  {
   "cell_type": "code",
   "execution_count": null,
   "metadata": {},
   "outputs": [],
   "source": []
  },
  {
   "cell_type": "code",
   "execution_count": null,
   "metadata": {},
   "outputs": [],
   "source": [
    "data = time.strftime('%x')\n",
    "data"
   ]
  },
  {
   "cell_type": "markdown",
   "metadata": {},
   "source": [
    "Fonte singripe = http://plataforma.saude.gov.br/coronavirus/dados-abertos/"
   ]
  },
  {
   "cell_type": "code",
   "execution_count": null,
   "metadata": {},
   "outputs": [],
   "source": [
    "from datetime import date\n",
    "data = date.today()\n",
    "\n",
    "data_br = '{}/{}/{}'.format(data.day, data.month,\n",
    "data.year)\n",
    "data_br"
   ]
  },
  {
   "cell_type": "code",
   "execution_count": null,
   "metadata": {},
   "outputs": [],
   "source": [
    "url"
   ]
  },
  {
   "cell_type": "code",
   "execution_count": null,
   "metadata": {},
   "outputs": [],
   "source": [
    "int(obitos)"
   ]
  },
  {
   "cell_type": "code",
   "execution_count": null,
   "metadata": {},
   "outputs": [],
   "source": [
    "confirmados"
   ]
  },
  {
   "cell_type": "code",
   "execution_count": null,
   "metadata": {},
   "outputs": [],
   "source": [
    "confirmados.count(confirmados)"
   ]
  },
  {
   "cell_type": "code",
   "execution_count": null,
   "metadata": {},
   "outputs": [],
   "source": [
    "for x in numero:\n",
    "    if int(obitos) == x:\n",
    "        if int(obitos) < 10:\n",
    "            print('%02d' % obitos)\n"
   ]
  },
  {
   "cell_type": "code",
   "execution_count": null,
   "metadata": {},
   "outputs": [],
   "source": [
    "obitos = int(obitos)"
   ]
  },
  {
   "cell_type": "code",
   "execution_count": null,
   "metadata": {},
   "outputs": [],
   "source": [
    "type(obitos)"
   ]
  },
  {
   "cell_type": "code",
   "execution_count": null,
   "metadata": {},
   "outputs": [],
   "source": [
    "type(numero[0])"
   ]
  },
  {
   "cell_type": "code",
   "execution_count": null,
   "metadata": {},
   "outputs": [],
   "source": [
    "for x in numero[range(10)]: \n",
    "    print(x"
   ]
  },
  {
   "cell_type": "code",
   "execution_count": null,
   "metadata": {},
   "outputs": [],
   "source": []
  }
 ],
 "metadata": {
  "kernelspec": {
   "display_name": "Python 3",
   "language": "python",
   "name": "python3"
  },
  "language_info": {
   "codemirror_mode": {
    "name": "ipython",
    "version": 3
   },
   "file_extension": ".py",
   "mimetype": "text/x-python",
   "name": "python",
   "nbconvert_exporter": "python",
   "pygments_lexer": "ipython3",
   "version": "3.7.6"
  }
 },
 "nbformat": 4,
 "nbformat_minor": 4
}

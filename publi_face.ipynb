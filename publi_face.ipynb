{
 "cells": [
  {
   "cell_type": "code",
   "execution_count": 1,
   "metadata": {},
   "outputs": [],
   "source": [
    "from selenium import webdriver\n",
    "\n",
    "\n",
    "# codigo wait de espera\n",
    "from selenium.webdriver.common.by import By\n",
    "from selenium.webdriver.support.ui import WebDriverWait\n",
    "from selenium.webdriver.support import expected_conditions as EC\n",
    "from selenium.webdriver.common.keys import Keys\n",
    "\n",
    "import time\n",
    "\n",
    "import os"
   ]
  },
  {
   "cell_type": "code",
   "execution_count": 2,
   "metadata": {},
   "outputs": [],
   "source": [
    "facebook = 'https://business.facebook.com/creatorstudio/?tab=home&collection_id=all_pages_business768230550683352'\n",
    "inta = 'https://business.facebook.com/creatorstudio/?tab=instagram_content_posts&collection_id=all_pages_business768230550683352&content_table=INSTAGRAM_POSTS'"
   ]
  },
  {
   "cell_type": "code",
   "execution_count": 3,
   "metadata": {},
   "outputs": [],
   "source": [
    "driver = webdriver.Firefox()\n"
   ]
  },
  {
   "cell_type": "code",
   "execution_count": 4,
   "metadata": {},
   "outputs": [],
   "source": [
    "driver.get(inta)\n",
    "usuario = ''\n",
    "password = ''"
   ]
  },
  {
   "cell_type": "code",
   "execution_count": 5,
   "metadata": {},
   "outputs": [],
   "source": [
    "login = '/html/body/div[1]/div[2]/div/div[2]/div/div/div/div[2]/div/div/span/div/div/div'\n",
    "driver.find_element_by_xpath(login).click()\n",
    "e_mail = driver.find_element_by_xpath('//*[@id=\"email\"]')\n",
    "senha = driver.find_element_by_xpath('//*[@id=\"pass\"]')\n",
    "iniciar_sessao = '//*[@id=\"loginbutton\"]'\n",
    "e_mail.send_keys(usuario)\n",
    "senha.send_keys(password)\n",
    "driver.find_element_by_xpath(iniciar_sessao).click()\n",
    "driver.implicitly_wait(50000)\n",
    "driver.find_element_by_id(\"media_manager_chrome_bar_instagram_icon\")\n",
    "icone_instagran = '//*[@id=\"media_manager_chrome_bar_instagram_icon\"]'\n",
    "driver.find_element_by_xpath(icone_instagran).click()\n",
    "xpath_criar_publicacao = '/html/body/div[1]/div/div[2]/div[1]/div/div[2]/div[1]/div[1]/div/div[1]/div/span'\n",
    "driver.find_element_by_xpath(xpath_criar_publicacao).click()\n",
    "time.sleep(3)\n",
    "opcao_feed = '/html/body/div[4]/div[1]/div[1]/div/div/div[2]/div[2]/ul/li[1]/div/div'\n",
    "driver.find_element_by_xpath(opcao_feed).click()\n",
    "time.sleep(3)\n",
    "conteudo = '/html/body/div[5]/div/div/div/div[2]/div[1]/div/div[5]/div/div/div'\n",
    "driver.find_element_by_xpath(conteudo).click()\n",
    "time.sleep(1)\n",
    "carregar_arquivo = '/html/body/div[6]/div/div/div/div/div/a/div[2]'\n",
    "#driver.find_element_by_xpath(carregar_arquivo).click()\n",
    "time.sleep(5)"
   ]
  },
  {
   "cell_type": "code",
   "execution_count": 6,
   "metadata": {},
   "outputs": [],
   "source": [
    "#%run \"./Codigo.ipynb\"    '//*[@id=\"js_gb\"]'\n"
   ]
  },
  {
   "cell_type": "code",
   "execution_count": 7,
   "metadata": {},
   "outputs": [],
   "source": [
    "input_carregar = driver.find_element_by_xpath('/html/body/div[6]/div/div/div/div/div/a/div[2]/input')\n",
    "input_carregar.send_keys('/home/leandro/Documentos/covid_fig/src/novo_Atualizado em_ 08_10_2020 14.jpeg')\n",
    "time.sleep(5)\n"
   ]
  },
  {
   "cell_type": "code",
   "execution_count": 8,
   "metadata": {},
   "outputs": [],
   "source": [
    "add_conteudo = '/html/body/div[5]/div/div/div/div[2]/div[1]/div/div[1]/div/div/div'\n",
    "driver.find_element_by_xpath(add_conteudo).click()"
   ]
  },
  {
   "cell_type": "code",
   "execution_count": 9,
   "metadata": {},
   "outputs": [],
   "source": [
    "imagem_dois_tres = driver.find_element_by_xpath('/html/body/div[7]/div/div/div/div/div/a/div[2]/input')\n",
    "imagem_dois_tres.send_keys('/home/leandro/Documentos/covid_fig/src/Atualizado em_ 08_10_2020 14pag_1.png')\n",
    "imagem_dois_tres = driver.find_element_by_xpath('/html/body/div[7]/div/div/div/div/div/a/div[2]/input')\n",
    "imagem_dois_tres.send_keys('/home/leandro/Documentos/covid_fig/src/Atualizado em_ 08_10_2020 14pag_3.png')"
   ]
  },
  {
   "cell_type": "code",
   "execution_count": 10,
   "metadata": {},
   "outputs": [],
   "source": [
    "publica_face = '/html/body/div[5]/div/div/div/div[2]/div[1]/div/div[6]/span[2]/div/div/button'\n",
    "driver.find_element_by_xpath(publica_face).click()"
   ]
  },
  {
   "cell_type": "code",
   "execution_count": 11,
   "metadata": {},
   "outputs": [],
   "source": [
    "texto = ''' Os dados foram retirados do portal covid\n",
    "O Municipio de Figueirópolis d'Oeste tem .....\n",
    "\n",
    "fonte: http://www.saude.mt.gov.br/painelcovidmt2/\n",
    "'''"
   ]
  },
  {
   "cell_type": "code",
   "execution_count": 12,
   "metadata": {},
   "outputs": [
    {
     "data": {
      "text/plain": [
       "<bound method WebElement.click of <selenium.webdriver.firefox.webelement.FirefoxWebElement (session=\"1a031889-0289-4071-af0d-e949f6583da4\", element=\"136134b1-b81a-4480-a95d-a94540fbc3b0\")>>"
      ]
     },
     "execution_count": 12,
     "metadata": {},
     "output_type": "execute_result"
    }
   ],
   "source": [
    "prenche_texto = driver.find_element_by_xpath('/html/body/div[5]/div/div/div/div[2]/div[1]/div/div[2]/div[1]/div/div/div[1]')\n",
    "prenche_texto.click\n",
    "#send_keys(texto)"
   ]
  },
  {
   "cell_type": "code",
   "execution_count": 13,
   "metadata": {},
   "outputs": [],
   "source": [
    "time.sleep(30)\n",
    "\n",
    "botao_publicar = '/html/body/div[5]/div/div/div/div[3]/div[2]/button'\n",
    "driver.find_element_by_xpath(botao_publicar).click()\n",
    "time.sleep(10)\n",
    "driver.close()"
   ]
  },
  {
   "cell_type": "code",
   "execution_count": 14,
   "metadata": {},
   "outputs": [],
   "source": [
    "#action.sendKeys(Keys.ESCAPE).build.perform"
   ]
  },
  {
   "cell_type": "code",
   "execution_count": null,
   "metadata": {},
   "outputs": [],
   "source": []
  },
  {
   "cell_type": "code",
   "execution_count": null,
   "metadata": {},
   "outputs": [],
   "source": []
  }
 ],
 "metadata": {
  "kernelspec": {
   "display_name": "Python 3",
   "language": "python",
   "name": "python3"
  },
  "language_info": {
   "codemirror_mode": {
    "name": "ipython",
    "version": 3
   },
   "file_extension": ".py",
   "mimetype": "text/x-python",
   "name": "python",
   "nbconvert_exporter": "python",
   "pygments_lexer": "ipython3",
   "version": "3.7.6"
  }
 },
 "nbformat": 4,
 "nbformat_minor": 4
}

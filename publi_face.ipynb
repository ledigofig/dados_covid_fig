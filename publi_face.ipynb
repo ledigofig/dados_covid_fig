{
 "cells": [
  {
   "cell_type": "code",
   "execution_count": 111,
   "metadata": {},
   "outputs": [],
   "source": [
    "from selenium import webdriver\n",
    "\n",
    "\n",
    "# codigo wait de espera\n",
    "from selenium.webdriver.common.by import By\n",
    "from selenium.webdriver.support.ui import WebDriverWait\n",
    "from selenium.webdriver.support import expected_conditions as EC\n",
    "from selenium.webdriver.common.keys import Keys\n",
    "\n",
    "import time\n",
    "\n",
    "import os"
   ]
  },
  {
   "cell_type": "code",
   "execution_count": 112,
   "metadata": {},
   "outputs": [],
   "source": [
    "facebook = 'https://business.facebook.com/creatorstudio/?tab=home&collection_id=all_pages_business768230550683352'\n",
    "inta = 'https://business.facebook.com/creatorstudio/?tab=instagram_content_posts&collection_id=all_pages_business768230550683352&content_table=INSTAGRAM_POSTS'"
   ]
  },
  {
   "cell_type": "code",
   "execution_count": 113,
   "metadata": {},
   "outputs": [],
   "source": [
    "driver = webdriver.Firefox()\n"
   ]
  },
  {
   "cell_type": "code",
   "execution_count": 114,
   "metadata": {},
   "outputs": [],
   "source": [
    "driver.get(inta)\n",
    "usuario = ''\n",
    "password = ''"
   ]
  },
  {
   "cell_type": "code",
   "execution_count": 115,
   "metadata": {},
   "outputs": [],
   "source": [
    "login = '/html/body/div[1]/div[2]/div/div[2]/div/div/div/div[2]/div/div/span/div/div/div'\n",
    "driver.find_element_by_xpath(login).click()\n",
    "e_mail = driver.find_element_by_xpath('//*[@id=\"email\"]')\n",
    "senha = driver.find_element_by_xpath('//*[@id=\"pass\"]')\n",
    "iniciar_sessao = '//*[@id=\"loginbutton\"]'\n",
    "e_mail.send_keys(usuario)\n",
    "senha.send_keys(password)\n",
    "driver.find_element_by_xpath(iniciar_sessao).click()\n",
    "driver.implicitly_wait(60)\n",
    "driver.find_element_by_id(\"media_manager_chrome_bar_instagram_icon\")\n",
    "icone_instagran = '//*[@id=\"media_manager_chrome_bar_instagram_icon\"]'\n",
    "driver.find_element_by_xpath(icone_instagran).click()\n",
    "xpath_criar_publicacao = '/html/body/div[1]/div/div[2]/div[1]/div/div[2]/div[1]/div[1]/div/div[1]/div/span'\n",
    "driver.find_element_by_xpath(xpath_criar_publicacao).click()\n",
    "time.sleep(3)\n",
    "opcao_feed = '/html/body/div[4]/div[1]/div[1]/div/div/div[2]/div[2]/ul/li[1]/div/div'\n",
    "driver.find_element_by_xpath(opcao_feed).click()\n",
    "time.sleep(3)\n",
    "conteudo = '/html/body/div[5]/div/div/div/div[2]/div[1]/div/div[5]/div/div/div'\n",
    "driver.find_element_by_xpath(conteudo).click()\n",
    "time.sleep(1)\n",
    "carregar_arquivo = '/html/body/div[6]/div/div/div/div/div/a/div[2]'\n",
    "#driver.find_element_by_xpath(carregar_arquivo).click()\n",
    "time.sleep(5)"
   ]
  },
  {
   "cell_type": "code",
   "execution_count": 116,
   "metadata": {},
   "outputs": [],
   "source": [
    "#%run \"./Codigo.ipynb\"    '//*[@id=\"js_gb\"]'\n"
   ]
  },
  {
   "cell_type": "code",
   "execution_count": 117,
   "metadata": {},
   "outputs": [],
   "source": [
    "input_carregar = driver.find_element_by_xpath('/html/body/div[6]/div/div/div/div/div/a/div[2]/input')\n",
    "input_carregar.send_keys('/home/leandro/Documentos/covid_fig/src/novo_Atualizado em_ 06_10_2020 10.jpeg' and \n",
    "                         '/home/leandro/Documentos/covid_fig/src/novo_Atualizado em_ 06_10_2020 14.jpeg')\n",
    "time.sleep(5)\n"
   ]
  },
  {
   "cell_type": "code",
   "execution_count": 119,
   "metadata": {},
   "outputs": [],
   "source": [
    "botao_publicar = '/html/body/div[5]/div/div/div/div[3]/div[2]/button'\n",
    "driver.find_element_by_xpath(botao_publicar).click()"
   ]
  },
  {
   "cell_type": "code",
   "execution_count": 70,
   "metadata": {},
   "outputs": [],
   "source": [
    "#action.sendKeys(Keys.ESCAPE).build.perform"
   ]
  },
  {
   "cell_type": "code",
   "execution_count": null,
   "metadata": {},
   "outputs": [],
   "source": []
  }
 ],
 "metadata": {
  "kernelspec": {
   "display_name": "Python 3",
   "language": "python",
   "name": "python3"
  },
  "language_info": {
   "codemirror_mode": {
    "name": "ipython",
    "version": 3
   },
   "file_extension": ".py",
   "mimetype": "text/x-python",
   "name": "python",
   "nbconvert_exporter": "python",
   "pygments_lexer": "ipython3",
   "version": "3.7.6"
  }
 },
 "nbformat": 4,
 "nbformat_minor": 4
}
